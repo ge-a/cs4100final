{
  "cells": [
    {
      "cell_type": "markdown",
      "metadata": {
        "id": "view-in-github",
        "colab_type": "text"
      },
      "source": [
        "<a href=\"https://colab.research.google.com/github/ge-a/cs4100final/blob/main/Final_Project.ipynb\" target=\"_parent\"><img src=\"https://colab.research.google.com/assets/colab-badge.svg\" alt=\"Open In Colab\"/></a>"
      ]
    },
    {
      "cell_type": "markdown",
      "source": [
        "The saved model parameters can be viewed in this Google Drive. Each model has been trained on 200,000 parameters using the code below.\n",
        "- https://drive.google.com/drive/folders/1eomS6hPnoLsxTZ3T37TRINz6e9oEjdCT?usp=sharing"
      ],
      "metadata": {
        "id": "BoV95xvniO3K"
      }
    },
    {
      "cell_type": "code",
      "execution_count": null,
      "metadata": {
        "id": "FiKcMeQC9AbG"
      },
      "outputs": [],
      "source": [
        "# install box2d for gym\n",
        "!pip install swig > /dev/null 2>&1\n",
        "!pip install gym[box2d] > /dev/null 2>&1\n",
        "\n",
        "# install stable-baselines3 for RL models\n",
        "!pip install stable-baselines3 > /dev/null 2>&1\n",
        "!pip install 'shimmy>=0.2.1' > /dev/null 2>&1"
      ]
    },
    {
      "cell_type": "code",
      "execution_count": null,
      "metadata": {
        "id": "WdgpZ90SFCI8"
      },
      "outputs": [],
      "source": [
        "import gym\n",
        "import time\n",
        "import warnings\n",
        "import subprocess\n",
        "import numpy as np\n",
        "from tqdm import tqdm\n",
        "from typing import Callable\n",
        "from google.colab import files\n",
        "from gym.wrappers import RecordVideo\n",
        "from stable_baselines3 import (\n",
        "    PPO, # Proximal Policy Optimization\n",
        "    A2C, # Advantage Actor Critic\n",
        "    DDPG, # Deep Deterministic Policy Gradient\n",
        "    SAC, # Soft Actor Critic\n",
        ")\n",
        "from stable_baselines3.common.env_util import make_vec_env\n",
        "from stable_baselines3.common.noise import NormalActionNoise"
      ]
    },
    {
      "cell_type": "code",
      "execution_count": null,
      "metadata": {
        "id": "fSqcs_v6gBw4",
        "colab": {
          "base_uri": "https://localhost:8080/"
        },
        "outputId": "daf4dd11-8599-4543-bc95-b664f3336b7d"
      },
      "outputs": [
        {
          "output_type": "stream",
          "name": "stderr",
          "text": [
            "/usr/local/lib/python3.10/dist-packages/ipykernel/ipkernel.py:283: DeprecationWarning: `should_run_async` will not call `transform_cell` automatically in the future. Please pass the result to `transformed_cell` argument and any exception that happen during thetransform in `preprocessing_exc_tuple` in IPython 7.17 and above.\n",
            "  and should_run_async(code)\n"
          ]
        }
      ],
      "source": [
        "# Train or load a `stable_baselines3` RL model that supports Space.Box\n",
        "# NOTE: Model will be trained if `load_file` is not provided\n",
        "def run(\n",
        "        video_folder: str,\n",
        "        model: Callable,\n",
        "        policy='CnnPolicy',\n",
        "        load_file=None,\n",
        "        train_name=None,\n",
        "        timesteps=100_000,\n",
        "        download=False,\n",
        "        **kwargs,\n",
        "    ):\n",
        "    warnings.filterwarnings('ignore')\n",
        "    subprocess.run(['rm', '-rf', video_folder])\n",
        "\n",
        "    # initialize 'CarRacing-v2' environment\n",
        "    env = gym.make(\n",
        "        'CarRacing-v2',\n",
        "        new_step_api=True,\n",
        "        lap_complete_percent=50,\n",
        "        max_episode_steps=2048,\n",
        "    )\n",
        "    env = RecordVideo(\n",
        "        env,\n",
        "        video_folder=f'./{video_folder}',\n",
        "        new_step_api=True,\n",
        "        episode_trigger=lambda episode: True,\n",
        "    )\n",
        "    vec_env = make_vec_env('CarRacing-v2', n_envs=1) # only needed for training\n",
        "\n",
        "    # load or train RL model\n",
        "    if load_file:\n",
        "        m = model.load(load_file, env=vec_env)\n",
        "        print('Model loaded')\n",
        "    else:\n",
        "        print('Model training...')\n",
        "        m = model(policy, vec_env, verbose=0, **kwargs)\n",
        "        m.learn(total_timesteps=timesteps, progress_bar=True)\n",
        "        m.save(train_name)\n",
        "        print('Model trained')\n",
        "        if download:\n",
        "            time.sleep(2)\n",
        "            files.download(f'{train_name}.zip')\n",
        "\n",
        "    return env, m\n",
        "\n",
        "\n",
        "# Evaluate multiple episodes for a given environment and RL model\n",
        "def eval(\n",
        "        env, m,\n",
        "        n_episodes=10,\n",
        "        n_timesteps=5000,\n",
        "        reward_threshold=False\n",
        "    ):\n",
        "    # Initiate variables for tracking best episode and rewards\n",
        "    best_episode = -1\n",
        "    highest_reward = float('-inf')\n",
        "    total_reward = 0\n",
        "    rewards = [[] for _ in range(n_episodes)]\n",
        "    try:\n",
        "        # Run the model for the number of episodes\n",
        "        for ep_id in range(n_episodes):\n",
        "            obs = env.reset()\n",
        "            ep_reward = 0\n",
        "            # Run evironment for the number of timesteps, keeping track of reward\n",
        "            for _ in tqdm(range(n_timesteps), desc=f'Episode #{ep_id}', unit='steps'):\n",
        "                action, _states = m.predict(obs)\n",
        "                obs, reward, done, truncated, info = env.step(action)\n",
        "                ep_reward += reward\n",
        "                rewards[ep_id].append(ep_reward)\n",
        "                if done:\n",
        "                    break\n",
        "\n",
        "            # Track the highest reward\n",
        "            ep_reward = round(ep_reward)\n",
        "            total_reward += ep_reward\n",
        "            if ep_reward > highest_reward:\n",
        "                highest_reward = ep_reward\n",
        "                best_episode = ep_id\n",
        "\n",
        "            # Break if we have met the reward threshold\n",
        "            if reward_threshold and highest_reward > reward_threshold:\n",
        "                break\n",
        "\n",
        "        # Output average reward and best episodes\n",
        "        print('\\nAverage reward:', round(total_reward / n_episodes))\n",
        "        print(f'Best episode: {best_episode} ({highest_reward})')\n",
        "        return rewards\n",
        "    # Ensure the environment is properly closed at termination\n",
        "    finally:\n",
        "        env.close()"
      ]
    },
    {
      "cell_type": "markdown",
      "metadata": {
        "id": "eqblpgF_V6kp"
      },
      "source": [
        "# Model 1: PPO (Proximal Policy Optimization)"
      ]
    },
    {
      "cell_type": "code",
      "execution_count": null,
      "metadata": {
        "colab": {
          "base_uri": "https://localhost:8080/"
        },
        "id": "0B9hG0m0h2nf",
        "outputId": "e5feb017-77e0-41e0-e70b-f4883f6c2f9d"
      },
      "outputs": [
        {
          "output_type": "stream",
          "name": "stdout",
          "text": [
            "Model loaded\n"
          ]
        }
      ],
      "source": [
        "# Policy: stablebaselines-3 CNN\n",
        "\n",
        "load = True\n",
        "video_folder = 'ppo_video'\n",
        "model = PPO\n",
        "if load:\n",
        "    env, m = run(\n",
        "        video_folder=video_folder,\n",
        "        model=model,\n",
        "        load_file='ppo_carracing_200k',\n",
        "    )\n",
        "else:\n",
        "    train_name = 'ppo_carracing_100k'\n",
        "    ppo_kwargs = {\n",
        "        'learning_rate': 0.0003,\n",
        "        'n_steps': 2048,\n",
        "        'batch_size': 64,\n",
        "        'n_epochs': 10,\n",
        "        'gamma': 0.99,\n",
        "        'gae_lambda': 0.95,\n",
        "        'ent_coef': 0.0,\n",
        "        'vf_coef': 0.5,\n",
        "    }\n",
        "    env, m = run(\n",
        "        video_folder=video_folder,\n",
        "        model=model,\n",
        "        train_name=train_name,\n",
        "        timesteps=200_000,\n",
        "        download=True,\n",
        "        **ppo_kwargs\n",
        "    )"
      ]
    },
    {
      "cell_type": "code",
      "source": [
        "rewards = eval(\n",
        "    env, m,\n",
        "    n_episodes=20,\n",
        "    n_timesteps=2048,\n",
        "    reward_threshold=800,\n",
        ")"
      ],
      "metadata": {
        "colab": {
          "base_uri": "https://localhost:8080/"
        },
        "id": "PwQRkrM-YD6i",
        "outputId": "40f82d3a-c79f-4562-8e96-b61403eaa454"
      },
      "execution_count": null,
      "outputs": [
        {
          "output_type": "stream",
          "name": "stderr",
          "text": [
            "Episode #0:  68%|██████▊   | 1398/2048 [01:08<00:32, 20.31steps/s]\n",
            "Episode #1: 100%|██████████| 2048/2048 [01:14<00:00, 27.36steps/s]\n",
            "Episode #2: 100%|██████████| 2048/2048 [01:35<00:00, 21.39steps/s]\n",
            "Episode #3: 100%|██████████| 2048/2048 [01:38<00:00, 20.80steps/s]\n",
            "Episode #4: 100%|██████████| 2048/2048 [01:26<00:00, 23.69steps/s]\n",
            "Episode #5: 100%|██████████| 2048/2048 [01:42<00:00, 20.06steps/s]\n",
            "Episode #6:  65%|██████▌   | 1337/2048 [01:02<00:33, 21.25steps/s]\n",
            "Episode #7: 100%|██████████| 2048/2048 [01:38<00:00, 20.80steps/s]\n",
            "Episode #8: 100%|██████████| 2048/2048 [01:32<00:00, 22.03steps/s]\n",
            "Episode #9: 100%|██████████| 2048/2048 [01:37<00:00, 20.99steps/s]\n",
            "Episode #10: 100%|██████████| 2048/2048 [01:42<00:00, 19.90steps/s]\n",
            "Episode #11: 100%|██████████| 2048/2048 [01:40<00:00, 20.35steps/s]\n",
            "Episode #12: 100%|██████████| 2048/2048 [01:43<00:00, 19.75steps/s]\n",
            "Episode #13: 100%|██████████| 2048/2048 [01:36<00:00, 21.29steps/s]\n",
            "Episode #14:  63%|██████▎   | 1281/2048 [01:01<00:37, 20.67steps/s]\n",
            "Episode #15:  96%|█████████▌| 1967/2048 [01:28<00:03, 22.19steps/s]\n",
            "Episode #16:  99%|█████████▊| 2020/2048 [01:41<00:01, 19.92steps/s]\n",
            "Episode #17: 100%|██████████| 2048/2048 [01:48<00:00, 18.82steps/s]\n",
            "Episode #18:  39%|███▉      | 807/2048 [00:38<00:59, 20.96steps/s]\n",
            "Episode #19: 100%|██████████| 2048/2048 [01:42<00:00, 19.97steps/s]"
          ]
        },
        {
          "output_type": "stream",
          "name": "stdout",
          "text": [
            "\n",
            "Average reward: 397\n",
            "Best episode: 1 (795)\n"
          ]
        },
        {
          "output_type": "stream",
          "name": "stderr",
          "text": [
            "\n"
          ]
        }
      ]
    },
    {
      "cell_type": "code",
      "source": [
        "# Policy: stablebaselines-3 CNN\n",
        "\n",
        "load = True\n",
        "video_folder = 'ppo_video'\n",
        "model = PPO\n",
        "if load:\n",
        "    env, m = run(\n",
        "        video_folder=video_folder,\n",
        "        model=model,\n",
        "        load_file='ppo_carracing_100k',\n",
        "    )\n",
        "else:\n",
        "    train_name = 'ppo_carracing_100k'\n",
        "    ppo_kwargs = {\n",
        "        'learning_rate': 0.0003,\n",
        "        'n_steps': 2048,\n",
        "        'batch_size': 64,\n",
        "        'n_epochs': 10,\n",
        "        'gamma': 0.99,\n",
        "        'gae_lambda': 0.95,\n",
        "        'ent_coef': 0.0,\n",
        "        'vf_coef': 0.5,\n",
        "    }\n",
        "    env, m = run(\n",
        "        video_folder=video_folder,\n",
        "        model=model,\n",
        "        train_name=train_name,\n",
        "        timesteps=200_000,\n",
        "        download=True,\n",
        "        **ppo_kwargs\n",
        "    )\n"
      ],
      "metadata": {
        "colab": {
          "base_uri": "https://localhost:8080/"
        },
        "id": "_KjpsOfQRypf",
        "outputId": "bcdd5f4f-d5da-42cf-c70b-5a7be53d3752"
      },
      "execution_count": null,
      "outputs": [
        {
          "output_type": "stream",
          "name": "stdout",
          "text": [
            "Model loaded\n"
          ]
        }
      ]
    },
    {
      "cell_type": "code",
      "source": [
        "rewards = eval(\n",
        "env, m,\n",
        "n_episodes=10,\n",
        "n_timesteps=2048,\n",
        "reward_threshold=800,\n",
        ")"
      ],
      "metadata": {
        "colab": {
          "base_uri": "https://localhost:8080/"
        },
        "id": "VszuXZnMUvKD",
        "outputId": "ad65b396-945f-40aa-9e84-013614d3174f"
      },
      "execution_count": null,
      "outputs": [
        {
          "output_type": "stream",
          "name": "stderr",
          "text": [
            "Episode #0: 100%|██████████| 2048/2048 [01:38<00:00, 20.83steps/s]\n",
            "Episode #1: 100%|██████████| 2048/2048 [01:35<00:00, 21.45steps/s]\n",
            "Episode #2: 100%|██████████| 2048/2048 [01:38<00:00, 20.69steps/s]\n",
            "Episode #3: 100%|██████████| 2048/2048 [01:37<00:00, 21.08steps/s]\n",
            "Episode #4: 100%|██████████| 2048/2048 [01:33<00:00, 21.92steps/s]\n",
            "Episode #5: 100%|██████████| 2048/2048 [01:39<00:00, 20.67steps/s]\n",
            "Episode #6: 100%|██████████| 2048/2048 [01:39<00:00, 20.66steps/s]\n",
            "Episode #7: 100%|██████████| 2048/2048 [01:36<00:00, 21.24steps/s]\n",
            "Episode #8: 100%|██████████| 2048/2048 [01:35<00:00, 21.50steps/s]\n",
            "Episode #9: 100%|██████████| 2048/2048 [01:36<00:00, 21.16steps/s]"
          ]
        },
        {
          "output_type": "stream",
          "name": "stdout",
          "text": [
            "\n",
            "Average reward: -150\n",
            "Best episode: 6 (-104)\n"
          ]
        },
        {
          "output_type": "stream",
          "name": "stderr",
          "text": [
            "\n"
          ]
        }
      ]
    },
    {
      "cell_type": "markdown",
      "metadata": {
        "id": "xfeOvUXOfoOx"
      },
      "source": [
        "# Model 2: A2C (Advantage Actor Critic)"
      ]
    },
    {
      "cell_type": "code",
      "execution_count": null,
      "metadata": {
        "colab": {
          "base_uri": "https://localhost:8080/"
        },
        "id": "7MsU6PRifuJp",
        "outputId": "a38b96a4-5170-47a5-d636-f936b347b8aa"
      },
      "outputs": [
        {
          "output_type": "stream",
          "name": "stdout",
          "text": [
            "Model loaded\n"
          ]
        }
      ],
      "source": [
        "# Policy: stablebaselines-3 CNN\n",
        "\n",
        "load = True\n",
        "video_folder = 'a2c_video'\n",
        "model = A2C\n",
        "if load:\n",
        "    env, m = run(\n",
        "        video_folder=video_folder,\n",
        "        model=model,\n",
        "        load_file='a2c_carracing_100k',\n",
        "    )\n",
        "else:\n",
        "    train_name = 'a2c_carracing_100k'\n",
        "    a2c_kwargs = {\n",
        "        'learning_rate': 0.0007,\n",
        "        'n_steps': 5,\n",
        "        'gamma': 0.99,\n",
        "        'gae_lambda': 1.0,\n",
        "        'ent_coef': 0.0,\n",
        "        'vf_coef': 0.5,\n",
        "        'use_rms_prop': True,\n",
        "    }\n",
        "    env, m = run(\n",
        "        video_folder=video_folder,\n",
        "        model=model,\n",
        "        train_name=train_name,\n",
        "        timesteps=10_000,\n",
        "        download=True,\n",
        "        **a2c_kwargs\n",
        "    )"
      ]
    },
    {
      "cell_type": "code",
      "source": [
        "eval(\n",
        "    env, m,\n",
        "    n_episodes=3,\n",
        "    n_timesteps=1000,\n",
        "    reward_threshold=500,\n",
        ")"
      ],
      "metadata": {
        "colab": {
          "base_uri": "https://localhost:8080/"
        },
        "id": "sPq8Pyxg04xt",
        "outputId": "c57a8781-0832-464e-a2a7-7f9a637f9b3b"
      },
      "execution_count": null,
      "outputs": [
        {
          "output_type": "stream",
          "name": "stderr",
          "text": [
            "Episode #0: 100%|██████████| 1000/1000 [00:29<00:00, 33.34steps/s]\n",
            "Episode #1: 100%|██████████| 1000/1000 [00:30<00:00, 32.26steps/s]\n",
            "Episode #2: 100%|██████████| 1000/1000 [00:13<00:00, 75.28steps/s]"
          ]
        },
        {
          "output_type": "stream",
          "name": "stdout",
          "text": [
            "\n",
            "Average reward: -84\n",
            "Best episode: 1 (-83)\n"
          ]
        },
        {
          "output_type": "stream",
          "name": "stderr",
          "text": [
            "\n"
          ]
        }
      ]
    },
    {
      "cell_type": "markdown",
      "metadata": {
        "id": "0UCxEbwutSLC"
      },
      "source": [
        "# Model 3: DDPG (Deep Deterministic Policy Gradient)"
      ]
    },
    {
      "cell_type": "code",
      "execution_count": null,
      "metadata": {
        "colab": {
          "base_uri": "https://localhost:8080/"
        },
        "id": "2Z2Uj7HptViw",
        "outputId": "816a5ca0-5dab-48a3-b4d0-d141cc2ee4ff"
      },
      "outputs": [
        {
          "output_type": "stream",
          "name": "stdout",
          "text": [
            "Model loaded\n"
          ]
        }
      ],
      "source": [
        "# Policy: CNN\n",
        "# things to try: action noise or changing the policy\n",
        "\n",
        "load = True\n",
        "video_folder = 'ddpg_video'\n",
        "model = DDPG\n",
        "if load:\n",
        "    env, m = run(\n",
        "        video_folder=video_folder,\n",
        "        model=model,\n",
        "        load_file='ddpg_carracing_100k',\n",
        "    )\n",
        "else:\n",
        "    train_name = 'ddpg_carracing_100k'\n",
        "    env, m = run(\n",
        "        video_folder=video_folder,\n",
        "        model=model,\n",
        "        train_name=train_name,\n",
        "        timesteps=100_000,\n",
        "        download=True,\n",
        "    )"
      ]
    },
    {
      "cell_type": "code",
      "source": [
        "eval(\n",
        "    env, m,\n",
        "    n_episodes=3,\n",
        "    n_timesteps=1000,\n",
        "    reward_threshold=500,\n",
        ")"
      ],
      "metadata": {
        "colab": {
          "base_uri": "https://localhost:8080/"
        },
        "id": "772nc35MrRDJ",
        "outputId": "b1be1a70-4003-4637-9330-bdfcf2fd95af"
      },
      "execution_count": null,
      "outputs": [
        {
          "output_type": "stream",
          "name": "stderr",
          "text": [
            "Episode #0: 100%|██████████| 1000/1000 [00:26<00:00, 37.43steps/s]\n",
            "Episode #1: 100%|██████████| 1000/1000 [00:27<00:00, 36.34steps/s]\n",
            "Episode #2: 100%|██████████| 1000/1000 [00:12<00:00, 81.25steps/s]"
          ]
        },
        {
          "output_type": "stream",
          "name": "stdout",
          "text": [
            "\n",
            "Average reward: -93\n",
            "Best episode: 0 (-93)\n"
          ]
        },
        {
          "output_type": "stream",
          "name": "stderr",
          "text": [
            "\n"
          ]
        }
      ]
    },
    {
      "cell_type": "markdown",
      "metadata": {
        "id": "ym3ID_ActgVQ"
      },
      "source": [
        "# Model 4: SAC (Soft Actor Critic)"
      ]
    },
    {
      "cell_type": "code",
      "execution_count": null,
      "metadata": {
        "colab": {
          "base_uri": "https://localhost:8080/",
          "height": 356
        },
        "id": "5QsA5JvWtgij",
        "outputId": "929287eb-f527-4865-de61-ec2cd55609af"
      },
      "outputs": [
        {
          "output_type": "error",
          "ename": "FileNotFoundError",
          "evalue": "[Errno 2] No such file or directory: 'sac_carracing_100k.zip'",
          "traceback": [
            "\u001b[0;31m---------------------------------------------------------------------------\u001b[0m",
            "\u001b[0;31mFileNotFoundError\u001b[0m                         Traceback (most recent call last)",
            "\u001b[0;32m<ipython-input-4-2b39b50c504c>\u001b[0m in \u001b[0;36m<cell line: 5>\u001b[0;34m()\u001b[0m\n\u001b[1;32m      4\u001b[0m \u001b[0mmodel\u001b[0m \u001b[0;34m=\u001b[0m \u001b[0mSAC\u001b[0m\u001b[0;34m\u001b[0m\u001b[0;34m\u001b[0m\u001b[0m\n\u001b[1;32m      5\u001b[0m \u001b[0;32mif\u001b[0m \u001b[0mload\u001b[0m\u001b[0;34m:\u001b[0m\u001b[0;34m\u001b[0m\u001b[0;34m\u001b[0m\u001b[0m\n\u001b[0;32m----> 6\u001b[0;31m     env, m = run(\n\u001b[0m\u001b[1;32m      7\u001b[0m         \u001b[0mvideo_folder\u001b[0m\u001b[0;34m=\u001b[0m\u001b[0mvideo_folder\u001b[0m\u001b[0;34m,\u001b[0m\u001b[0;34m\u001b[0m\u001b[0;34m\u001b[0m\u001b[0m\n\u001b[1;32m      8\u001b[0m         \u001b[0mmodel\u001b[0m\u001b[0;34m=\u001b[0m\u001b[0mmodel\u001b[0m\u001b[0;34m,\u001b[0m\u001b[0;34m\u001b[0m\u001b[0;34m\u001b[0m\u001b[0m\n",
            "\u001b[0;32m<ipython-input-3-a9a5de983f48>\u001b[0m in \u001b[0;36mrun\u001b[0;34m(video_folder, model, policy, load_file, train_name, timesteps, download, **kwargs)\u001b[0m\n\u001b[1;32m     31\u001b[0m     \u001b[0;31m# load or train RL model\u001b[0m\u001b[0;34m\u001b[0m\u001b[0;34m\u001b[0m\u001b[0m\n\u001b[1;32m     32\u001b[0m     \u001b[0;32mif\u001b[0m \u001b[0mload_file\u001b[0m\u001b[0;34m:\u001b[0m\u001b[0;34m\u001b[0m\u001b[0;34m\u001b[0m\u001b[0m\n\u001b[0;32m---> 33\u001b[0;31m         \u001b[0mm\u001b[0m \u001b[0;34m=\u001b[0m \u001b[0mmodel\u001b[0m\u001b[0;34m.\u001b[0m\u001b[0mload\u001b[0m\u001b[0;34m(\u001b[0m\u001b[0mload_file\u001b[0m\u001b[0;34m,\u001b[0m \u001b[0menv\u001b[0m\u001b[0;34m=\u001b[0m\u001b[0mvec_env\u001b[0m\u001b[0;34m)\u001b[0m\u001b[0;34m\u001b[0m\u001b[0;34m\u001b[0m\u001b[0m\n\u001b[0m\u001b[1;32m     34\u001b[0m         \u001b[0mprint\u001b[0m\u001b[0;34m(\u001b[0m\u001b[0;34m'Model loaded'\u001b[0m\u001b[0;34m)\u001b[0m\u001b[0;34m\u001b[0m\u001b[0;34m\u001b[0m\u001b[0m\n\u001b[1;32m     35\u001b[0m     \u001b[0;32melse\u001b[0m\u001b[0;34m:\u001b[0m\u001b[0;34m\u001b[0m\u001b[0;34m\u001b[0m\u001b[0m\n",
            "\u001b[0;32m/usr/local/lib/python3.10/dist-packages/stable_baselines3/common/base_class.py\u001b[0m in \u001b[0;36mload\u001b[0;34m(cls, path, env, device, custom_objects, print_system_info, force_reset, **kwargs)\u001b[0m\n\u001b[1;32m    678\u001b[0m             \u001b[0mget_system_info\u001b[0m\u001b[0;34m(\u001b[0m\u001b[0;34m)\u001b[0m\u001b[0;34m\u001b[0m\u001b[0;34m\u001b[0m\u001b[0m\n\u001b[1;32m    679\u001b[0m \u001b[0;34m\u001b[0m\u001b[0m\n\u001b[0;32m--> 680\u001b[0;31m         data, params, pytorch_variables = load_from_zip_file(\n\u001b[0m\u001b[1;32m    681\u001b[0m             \u001b[0mpath\u001b[0m\u001b[0;34m,\u001b[0m\u001b[0;34m\u001b[0m\u001b[0;34m\u001b[0m\u001b[0m\n\u001b[1;32m    682\u001b[0m             \u001b[0mdevice\u001b[0m\u001b[0;34m=\u001b[0m\u001b[0mdevice\u001b[0m\u001b[0;34m,\u001b[0m\u001b[0;34m\u001b[0m\u001b[0;34m\u001b[0m\u001b[0m\n",
            "\u001b[0;32m/usr/local/lib/python3.10/dist-packages/stable_baselines3/common/save_util.py\u001b[0m in \u001b[0;36mload_from_zip_file\u001b[0;34m(load_path, load_data, custom_objects, device, verbose, print_system_info)\u001b[0m\n\u001b[1;32m    401\u001b[0m         \u001b[0;32mand\u001b[0m \u001b[0mdict\u001b[0m \u001b[0mof\u001b[0m \u001b[0mpytorch\u001b[0m \u001b[0mvariables\u001b[0m\u001b[0;34m\u001b[0m\u001b[0;34m\u001b[0m\u001b[0m\n\u001b[1;32m    402\u001b[0m     \"\"\"\n\u001b[0;32m--> 403\u001b[0;31m     \u001b[0mfile\u001b[0m \u001b[0;34m=\u001b[0m \u001b[0mopen_path\u001b[0m\u001b[0;34m(\u001b[0m\u001b[0mload_path\u001b[0m\u001b[0;34m,\u001b[0m \u001b[0;34m\"r\"\u001b[0m\u001b[0;34m,\u001b[0m \u001b[0mverbose\u001b[0m\u001b[0;34m=\u001b[0m\u001b[0mverbose\u001b[0m\u001b[0;34m,\u001b[0m \u001b[0msuffix\u001b[0m\u001b[0;34m=\u001b[0m\u001b[0;34m\"zip\"\u001b[0m\u001b[0;34m)\u001b[0m\u001b[0;34m\u001b[0m\u001b[0;34m\u001b[0m\u001b[0m\n\u001b[0m\u001b[1;32m    404\u001b[0m \u001b[0;34m\u001b[0m\u001b[0m\n\u001b[1;32m    405\u001b[0m     \u001b[0;31m# set device to cpu if cuda is not available\u001b[0m\u001b[0;34m\u001b[0m\u001b[0;34m\u001b[0m\u001b[0m\n",
            "\u001b[0;32m/usr/lib/python3.10/functools.py\u001b[0m in \u001b[0;36mwrapper\u001b[0;34m(*args, **kw)\u001b[0m\n\u001b[1;32m    887\u001b[0m                             '1 positional argument')\n\u001b[1;32m    888\u001b[0m \u001b[0;34m\u001b[0m\u001b[0m\n\u001b[0;32m--> 889\u001b[0;31m         \u001b[0;32mreturn\u001b[0m \u001b[0mdispatch\u001b[0m\u001b[0;34m(\u001b[0m\u001b[0margs\u001b[0m\u001b[0;34m[\u001b[0m\u001b[0;36m0\u001b[0m\u001b[0;34m]\u001b[0m\u001b[0;34m.\u001b[0m\u001b[0m__class__\u001b[0m\u001b[0;34m)\u001b[0m\u001b[0;34m(\u001b[0m\u001b[0;34m*\u001b[0m\u001b[0margs\u001b[0m\u001b[0;34m,\u001b[0m \u001b[0;34m**\u001b[0m\u001b[0mkw\u001b[0m\u001b[0;34m)\u001b[0m\u001b[0;34m\u001b[0m\u001b[0;34m\u001b[0m\u001b[0m\n\u001b[0m\u001b[1;32m    890\u001b[0m \u001b[0;34m\u001b[0m\u001b[0m\n\u001b[1;32m    891\u001b[0m     \u001b[0mfuncname\u001b[0m \u001b[0;34m=\u001b[0m \u001b[0mgetattr\u001b[0m\u001b[0;34m(\u001b[0m\u001b[0mfunc\u001b[0m\u001b[0;34m,\u001b[0m \u001b[0;34m'__name__'\u001b[0m\u001b[0;34m,\u001b[0m \u001b[0;34m'singledispatch function'\u001b[0m\u001b[0;34m)\u001b[0m\u001b[0;34m\u001b[0m\u001b[0;34m\u001b[0m\u001b[0m\n",
            "\u001b[0;32m/usr/local/lib/python3.10/dist-packages/stable_baselines3/common/save_util.py\u001b[0m in \u001b[0;36mopen_path_str\u001b[0;34m(path, mode, verbose, suffix)\u001b[0m\n\u001b[1;32m    238\u001b[0m     \u001b[0;34m:\u001b[0m\u001b[0;32mreturn\u001b[0m\u001b[0;34m:\u001b[0m\u001b[0;34m\u001b[0m\u001b[0;34m\u001b[0m\u001b[0m\n\u001b[1;32m    239\u001b[0m     \"\"\"\n\u001b[0;32m--> 240\u001b[0;31m     \u001b[0;32mreturn\u001b[0m \u001b[0mopen_path_pathlib\u001b[0m\u001b[0;34m(\u001b[0m\u001b[0mpathlib\u001b[0m\u001b[0;34m.\u001b[0m\u001b[0mPath\u001b[0m\u001b[0;34m(\u001b[0m\u001b[0mpath\u001b[0m\u001b[0;34m)\u001b[0m\u001b[0;34m,\u001b[0m \u001b[0mmode\u001b[0m\u001b[0;34m,\u001b[0m \u001b[0mverbose\u001b[0m\u001b[0;34m,\u001b[0m \u001b[0msuffix\u001b[0m\u001b[0;34m)\u001b[0m\u001b[0;34m\u001b[0m\u001b[0;34m\u001b[0m\u001b[0m\n\u001b[0m\u001b[1;32m    241\u001b[0m \u001b[0;34m\u001b[0m\u001b[0m\n\u001b[1;32m    242\u001b[0m \u001b[0;34m\u001b[0m\u001b[0m\n",
            "\u001b[0;32m/usr/local/lib/python3.10/dist-packages/stable_baselines3/common/save_util.py\u001b[0m in \u001b[0;36mopen_path_pathlib\u001b[0;34m(path, mode, verbose, suffix)\u001b[0m\n\u001b[1;32m    289\u001b[0m     \u001b[0;31m#   with corrections\u001b[0m\u001b[0;34m\u001b[0m\u001b[0;34m\u001b[0m\u001b[0m\n\u001b[1;32m    290\u001b[0m     \u001b[0;31m# if reading failed with FileNotFoundError, calls open_path_pathlib with suffix\u001b[0m\u001b[0;34m\u001b[0m\u001b[0;34m\u001b[0m\u001b[0m\n\u001b[0;32m--> 291\u001b[0;31m     \u001b[0;32mreturn\u001b[0m \u001b[0mopen_path_pathlib\u001b[0m\u001b[0;34m(\u001b[0m\u001b[0mpath\u001b[0m\u001b[0;34m,\u001b[0m \u001b[0mmode\u001b[0m\u001b[0;34m,\u001b[0m \u001b[0mverbose\u001b[0m\u001b[0;34m,\u001b[0m \u001b[0msuffix\u001b[0m\u001b[0;34m)\u001b[0m\u001b[0;34m\u001b[0m\u001b[0;34m\u001b[0m\u001b[0m\n\u001b[0m\u001b[1;32m    292\u001b[0m \u001b[0;34m\u001b[0m\u001b[0m\n\u001b[1;32m    293\u001b[0m \u001b[0;34m\u001b[0m\u001b[0m\n",
            "\u001b[0;32m/usr/local/lib/python3.10/dist-packages/stable_baselines3/common/save_util.py\u001b[0m in \u001b[0;36mopen_path_pathlib\u001b[0;34m(path, mode, verbose, suffix)\u001b[0m\n\u001b[1;32m    270\u001b[0m                 \u001b[0mpath\u001b[0m\u001b[0;34m,\u001b[0m \u001b[0msuffix\u001b[0m \u001b[0;34m=\u001b[0m \u001b[0mnewpath\u001b[0m\u001b[0;34m,\u001b[0m \u001b[0;32mNone\u001b[0m\u001b[0;34m\u001b[0m\u001b[0;34m\u001b[0m\u001b[0m\n\u001b[1;32m    271\u001b[0m             \u001b[0;32melse\u001b[0m\u001b[0;34m:\u001b[0m\u001b[0;34m\u001b[0m\u001b[0;34m\u001b[0m\u001b[0m\n\u001b[0;32m--> 272\u001b[0;31m                 \u001b[0;32mraise\u001b[0m \u001b[0merror\u001b[0m\u001b[0;34m\u001b[0m\u001b[0;34m\u001b[0m\u001b[0m\n\u001b[0m\u001b[1;32m    273\u001b[0m     \u001b[0;32melse\u001b[0m\u001b[0;34m:\u001b[0m\u001b[0;34m\u001b[0m\u001b[0;34m\u001b[0m\u001b[0m\n\u001b[1;32m    274\u001b[0m         \u001b[0;32mtry\u001b[0m\u001b[0;34m:\u001b[0m\u001b[0;34m\u001b[0m\u001b[0;34m\u001b[0m\u001b[0m\n",
            "\u001b[0;32m/usr/local/lib/python3.10/dist-packages/stable_baselines3/common/save_util.py\u001b[0m in \u001b[0;36mopen_path_pathlib\u001b[0;34m(path, mode, verbose, suffix)\u001b[0m\n\u001b[1;32m    262\u001b[0m     \u001b[0;32mif\u001b[0m \u001b[0mmode\u001b[0m \u001b[0;34m==\u001b[0m \u001b[0;34m\"r\"\u001b[0m\u001b[0;34m:\u001b[0m\u001b[0;34m\u001b[0m\u001b[0;34m\u001b[0m\u001b[0m\n\u001b[1;32m    263\u001b[0m         \u001b[0;32mtry\u001b[0m\u001b[0;34m:\u001b[0m\u001b[0;34m\u001b[0m\u001b[0;34m\u001b[0m\u001b[0m\n\u001b[0;32m--> 264\u001b[0;31m             \u001b[0;32mreturn\u001b[0m \u001b[0mopen_path\u001b[0m\u001b[0;34m(\u001b[0m\u001b[0mpath\u001b[0m\u001b[0;34m.\u001b[0m\u001b[0mopen\u001b[0m\u001b[0;34m(\u001b[0m\u001b[0;34m\"rb\"\u001b[0m\u001b[0;34m)\u001b[0m\u001b[0;34m,\u001b[0m \u001b[0mmode\u001b[0m\u001b[0;34m,\u001b[0m \u001b[0mverbose\u001b[0m\u001b[0;34m,\u001b[0m \u001b[0msuffix\u001b[0m\u001b[0;34m)\u001b[0m\u001b[0;34m\u001b[0m\u001b[0;34m\u001b[0m\u001b[0m\n\u001b[0m\u001b[1;32m    265\u001b[0m         \u001b[0;32mexcept\u001b[0m \u001b[0mFileNotFoundError\u001b[0m \u001b[0;32mas\u001b[0m \u001b[0merror\u001b[0m\u001b[0;34m:\u001b[0m\u001b[0;34m\u001b[0m\u001b[0;34m\u001b[0m\u001b[0m\n\u001b[1;32m    266\u001b[0m             \u001b[0;32mif\u001b[0m \u001b[0msuffix\u001b[0m \u001b[0;32mis\u001b[0m \u001b[0;32mnot\u001b[0m \u001b[0;32mNone\u001b[0m \u001b[0;32mand\u001b[0m \u001b[0msuffix\u001b[0m \u001b[0;34m!=\u001b[0m \u001b[0;34m\"\"\u001b[0m\u001b[0;34m:\u001b[0m\u001b[0;34m\u001b[0m\u001b[0;34m\u001b[0m\u001b[0m\n",
            "\u001b[0;32m/usr/lib/python3.10/pathlib.py\u001b[0m in \u001b[0;36mopen\u001b[0;34m(self, mode, buffering, encoding, errors, newline)\u001b[0m\n\u001b[1;32m   1117\u001b[0m         \u001b[0;32mif\u001b[0m \u001b[0;34m\"b\"\u001b[0m \u001b[0;32mnot\u001b[0m \u001b[0;32min\u001b[0m \u001b[0mmode\u001b[0m\u001b[0;34m:\u001b[0m\u001b[0;34m\u001b[0m\u001b[0;34m\u001b[0m\u001b[0m\n\u001b[1;32m   1118\u001b[0m             \u001b[0mencoding\u001b[0m \u001b[0;34m=\u001b[0m \u001b[0mio\u001b[0m\u001b[0;34m.\u001b[0m\u001b[0mtext_encoding\u001b[0m\u001b[0;34m(\u001b[0m\u001b[0mencoding\u001b[0m\u001b[0;34m)\u001b[0m\u001b[0;34m\u001b[0m\u001b[0;34m\u001b[0m\u001b[0m\n\u001b[0;32m-> 1119\u001b[0;31m         return self._accessor.open(self, mode, buffering, encoding, errors,\n\u001b[0m\u001b[1;32m   1120\u001b[0m                                    newline)\n\u001b[1;32m   1121\u001b[0m \u001b[0;34m\u001b[0m\u001b[0m\n",
            "\u001b[0;31mFileNotFoundError\u001b[0m: [Errno 2] No such file or directory: 'sac_carracing_100k.zip'"
          ]
        }
      ],
      "source": [
        "# Policy: stablebaselines-3 CNN\n",
        "\n",
        "load = True\n",
        "video_folder = 'sac_video'\n",
        "model = SAC\n",
        "if load:\n",
        "    env, m = run(\n",
        "        video_folder=video_folder,\n",
        "        model=model,\n",
        "        load_file='sac_carracing_100k',\n",
        "    )\n",
        "else:\n",
        "    train_name = 'sac_carracing_100k'\n",
        "    sac_kwargs = {\n",
        "        'learning_rate': 0.0003,\n",
        "        'learning_starts': 100,\n",
        "        'batch_size': 256,\n",
        "        'tau': 0.005,\n",
        "        'gamma': 0.99,\n",
        "    }\n",
        "    env, m = run(\n",
        "        video_folder=video_folder,\n",
        "        model=model,\n",
        "        train_name=train_name,\n",
        "        timesteps=100_000,\n",
        "        download=True,\n",
        "        **sac_kwargs\n",
        "    )"
      ]
    },
    {
      "cell_type": "code",
      "source": [
        "eval(\n",
        "    env, m,\n",
        "    n_episodes=3,\n",
        "    n_timesteps=1000,\n",
        "    reward_threshold=500,\n",
        ")"
      ],
      "metadata": {
        "colab": {
          "base_uri": "https://localhost:8080/"
        },
        "id": "_njRTryqApwc",
        "outputId": "aae9a143-e84b-40aa-dd3b-a0f906098c4b"
      },
      "execution_count": null,
      "outputs": [
        {
          "output_type": "stream",
          "name": "stderr",
          "text": [
            "Episode #0: 100%|██████████| 1000/1000 [00:28<00:00, 34.67steps/s]\n",
            "Episode #1: 100%|██████████| 1000/1000 [00:28<00:00, 35.06steps/s]\n",
            "Episode #2: 100%|██████████| 1000/1000 [00:13<00:00, 75.53steps/s]"
          ]
        },
        {
          "output_type": "stream",
          "name": "stdout",
          "text": [
            "\n",
            "Average reward: -19\n",
            "Best episode: 0 (14)\n"
          ]
        },
        {
          "output_type": "stream",
          "name": "stderr",
          "text": [
            "\n"
          ]
        }
      ]
    },
    {
      "cell_type": "markdown",
      "source": [
        "# Custom PPO Policy"
      ],
      "metadata": {
        "id": "ukUerD9ri_Jj"
      }
    },
    {
      "cell_type": "code",
      "source": [
        "import torch\n",
        "import torch.nn as nn\n",
        "\n",
        "# Policy as a class for visualization\n",
        "class CNN(nn.Module):\n",
        "    def __init__(self):\n",
        "        super(CNN, self).__init__()\n",
        "        # Define convolutional layers\n",
        "        self.conv1 = nn.Conv2d(3, 16, kernel_size=3, stride=1, padding=1)\n",
        "        self.conv2 = nn.Conv2d(16, 32, kernel_size=3, stride=1, padding=1)\n",
        "        self.conv3 = nn.Conv2d(32, 64, kernel_size=3, stride=1, padding=1)\n",
        "        # Define batch normalization layers\n",
        "        self.bn1 = nn.BatchNorm2d(16)\n",
        "        self.bn2 = nn.BatchNorm2d(32)\n",
        "        self.bn3 = nn.BatchNorm2d(64)\n",
        "        # Define max pooling\n",
        "        self.pool = nn.MaxPool2d(kernel_size=2, stride=2, padding=0)\n",
        "        # Define fully connected layer\n",
        "        self.fc = nn.Linear(64 * 12 * 12, 64)  # Adjust the output size as needed\n",
        "\n",
        "    def forward(self, x):\n",
        "        # Convolutional layers with batch normalization and ReLU activation\n",
        "        x = self.pool(self.bn1(nn.ReLU()(self.conv1(x))))\n",
        "        x = self.pool(self.bn2(nn.ReLU()(self.conv2(x))))\n",
        "        x = self.pool(self.bn3(nn.ReLU()(self.conv3(x))))\n",
        "        # Flatten the output for fully connected layers\n",
        "        x = x.view(-1, 64 * 12 * 12)  # Adjust the size accordingly\n",
        "        # Fully connected layer\n",
        "        x = self.fc(x)\n",
        "        return x"
      ],
      "metadata": {
        "id": "gK8hS4A5w50n"
      },
      "execution_count": null,
      "outputs": []
    },
    {
      "cell_type": "code",
      "source": [
        "# Save policy to be loaded freely\n",
        "cnn = CNN()\n",
        "torch.save(cnn.state_dict(), 'model.pth')"
      ],
      "metadata": {
        "id": "7b133zUrudv2"
      },
      "execution_count": null,
      "outputs": []
    },
    {
      "cell_type": "code",
      "source": [
        "# number of parameters using custom CNN policy\n",
        "cnn = CNN()\n",
        "params = sum([n.numel() for n in cnn.parameters() if n.requires_grad])\n",
        "params"
      ],
      "metadata": {
        "colab": {
          "base_uri": "https://localhost:8080/"
        },
        "id": "xRzzjo7zU88-",
        "outputId": "29ca3391-4185-4b9a-e95d-a5df7a03680d"
      },
      "execution_count": null,
      "outputs": [
        {
          "output_type": "execute_result",
          "data": {
            "text/plain": [
              "613696"
            ]
          },
          "metadata": {},
          "execution_count": 21
        }
      ]
    },
    {
      "cell_type": "code",
      "source": [
        "!pip install torchview > /dev/null 2>&1"
      ],
      "metadata": {
        "id": "OjBD8ic-RnOT"
      },
      "execution_count": null,
      "outputs": []
    },
    {
      "cell_type": "code",
      "source": [
        "# Policy Visualization for Slideshow and paper\n",
        "from torchview import draw_graph\n",
        "\n",
        "cnn = CNN()\n",
        "graph = draw_graph(\n",
        "    model=cnn,\n",
        "    input_size=(1, 3, 96, 96),\n",
        "    save_graph=True,\n",
        ")\n",
        "graph.visual_graph"
      ],
      "metadata": {
        "colab": {
          "base_uri": "https://localhost:8080/",
          "height": 1000
        },
        "id": "TncLi7FxQxlS",
        "outputId": "9a361d56-84ff-47d0-eeb3-63e10923be3e"
      },
      "execution_count": null,
      "outputs": [
        {
          "output_type": "execute_result",
          "data": {
            "image/svg+xml": "<?xml version=\"1.0\" encoding=\"UTF-8\" standalone=\"no\"?>\n<!DOCTYPE svg PUBLIC \"-//W3C//DTD SVG 1.1//EN\"\n \"http://www.w3.org/Graphics/SVG/1.1/DTD/svg11.dtd\">\n<!-- Generated by graphviz version 2.43.0 (0)\n -->\n<!-- Title: model Pages: 1 -->\n<svg width=\"181pt\" height=\"864pt\"\n viewBox=\"0.00 0.00 180.72 864.00\" xmlns=\"http://www.w3.org/2000/svg\" xmlns:xlink=\"http://www.w3.org/1999/xlink\">\n<g id=\"graph0\" class=\"graph\" transform=\"scale(1.39 1.39) rotate(0) translate(4 1196)\">\n<title>model</title>\n<polygon fill=\"white\" stroke=\"transparent\" points=\"-4,4 -4,-1196 247,-1196 247,4 -4,4\"/>\n<!-- 0 -->\n<g id=\"node1\" class=\"node\">\n<title>0</title>\n<polygon fill=\"lightyellow\" stroke=\"transparent\" points=\"210.5,-1192 32.5,-1192 32.5,-1160 210.5,-1160 210.5,-1192\"/>\n<polygon fill=\"none\" stroke=\"black\" points=\"32.5,-1160 32.5,-1192 115.5,-1192 115.5,-1160 32.5,-1160\"/>\n<text text-anchor=\"start\" x=\"37.5\" y=\"-1179\" font-family=\"Linux libertine\" font-size=\"10.00\">input&#45;tensor</text>\n<text text-anchor=\"start\" x=\"52.5\" y=\"-1168\" font-family=\"Linux libertine\" font-size=\"10.00\">depth:0</text>\n<polygon fill=\"none\" stroke=\"black\" points=\"115.5,-1160 115.5,-1192 210.5,-1192 210.5,-1160 115.5,-1160\"/>\n<text text-anchor=\"start\" x=\"120.5\" y=\"-1173.5\" font-family=\"Linux libertine\" font-size=\"10.00\">(1, 3, 96, 96)</text>\n</g>\n<!-- 1 -->\n<g id=\"node2\" class=\"node\">\n<title>1</title>\n<polygon fill=\"#c1ffc1\" stroke=\"transparent\" points=\"231,-1124 12,-1124 12,-1082 231,-1082 231,-1124\"/>\n<polygon fill=\"none\" stroke=\"black\" points=\"12.5,-1082 12.5,-1124 65.5,-1124 65.5,-1082 12.5,-1082\"/>\n<text text-anchor=\"start\" x=\"20.5\" y=\"-1106\" font-family=\"Linux libertine\" font-size=\"10.00\">Conv2d</text>\n<text text-anchor=\"start\" x=\"17.5\" y=\"-1095\" font-family=\"Linux libertine\" font-size=\"10.00\">depth:1</text>\n<polygon fill=\"none\" stroke=\"black\" points=\"65.5,-1103 65.5,-1124 124.5,-1124 124.5,-1103 65.5,-1103\"/>\n<text text-anchor=\"start\" x=\"76.5\" y=\"-1111\" font-family=\"Linux libertine\" font-size=\"10.00\">input:</text>\n<polygon fill=\"none\" stroke=\"black\" points=\"124.5,-1103 124.5,-1124 231.5,-1124 231.5,-1103 124.5,-1103\"/>\n<text text-anchor=\"start\" x=\"132.5\" y=\"-1111\" font-family=\"Linux libertine\" font-size=\"10.00\">(1, 3, 96, 96) </text>\n<polygon fill=\"none\" stroke=\"black\" points=\"65.5,-1082 65.5,-1103 124.5,-1103 124.5,-1082 65.5,-1082\"/>\n<text text-anchor=\"start\" x=\"70.5\" y=\"-1090\" font-family=\"Linux libertine\" font-size=\"10.00\">output: </text>\n<polygon fill=\"none\" stroke=\"black\" points=\"124.5,-1082 124.5,-1103 231.5,-1103 231.5,-1082 124.5,-1082\"/>\n<text text-anchor=\"start\" x=\"129.5\" y=\"-1090\" font-family=\"Linux libertine\" font-size=\"10.00\">(1, 16, 96, 96) </text>\n</g>\n<!-- 0&#45;&gt;1 -->\n<g id=\"edge1\" class=\"edge\">\n<title>0&#45;&gt;1</title>\n<path fill=\"none\" stroke=\"black\" d=\"M121.5,-1159.94C121.5,-1152.45 121.5,-1143.12 121.5,-1134.24\"/>\n<polygon fill=\"black\" stroke=\"black\" points=\"125,-1134.16 121.5,-1124.16 118,-1134.16 125,-1134.16\"/>\n</g>\n<!-- 2 -->\n<g id=\"node3\" class=\"node\">\n<title>2</title>\n<polygon fill=\"#c1ffc1\" stroke=\"transparent\" points=\"231,-1046 12,-1046 12,-1004 231,-1004 231,-1046\"/>\n<polygon fill=\"none\" stroke=\"black\" points=\"12.5,-1004 12.5,-1046 65.5,-1046 65.5,-1004 12.5,-1004\"/>\n<text text-anchor=\"start\" x=\"26.5\" y=\"-1028\" font-family=\"Linux libertine\" font-size=\"10.00\">ReLU</text>\n<text text-anchor=\"start\" x=\"17.5\" y=\"-1017\" font-family=\"Linux libertine\" font-size=\"10.00\">depth:1</text>\n<polygon fill=\"none\" stroke=\"black\" points=\"65.5,-1025 65.5,-1046 124.5,-1046 124.5,-1025 65.5,-1025\"/>\n<text text-anchor=\"start\" x=\"76.5\" y=\"-1033\" font-family=\"Linux libertine\" font-size=\"10.00\">input:</text>\n<polygon fill=\"none\" stroke=\"black\" points=\"124.5,-1025 124.5,-1046 231.5,-1046 231.5,-1025 124.5,-1025\"/>\n<text text-anchor=\"start\" x=\"129.5\" y=\"-1033\" font-family=\"Linux libertine\" font-size=\"10.00\">(1, 16, 96, 96) </text>\n<polygon fill=\"none\" stroke=\"black\" points=\"65.5,-1004 65.5,-1025 124.5,-1025 124.5,-1004 65.5,-1004\"/>\n<text text-anchor=\"start\" x=\"70.5\" y=\"-1012\" font-family=\"Linux libertine\" font-size=\"10.00\">output: </text>\n<polygon fill=\"none\" stroke=\"black\" points=\"124.5,-1004 124.5,-1025 231.5,-1025 231.5,-1004 124.5,-1004\"/>\n<text text-anchor=\"start\" x=\"129.5\" y=\"-1012\" font-family=\"Linux libertine\" font-size=\"10.00\">(1, 16, 96, 96) </text>\n</g>\n<!-- 1&#45;&gt;2 -->\n<g id=\"edge2\" class=\"edge\">\n<title>1&#45;&gt;2</title>\n<path fill=\"none\" stroke=\"black\" d=\"M121.5,-1081.63C121.5,-1073.82 121.5,-1064.73 121.5,-1056.18\"/>\n<polygon fill=\"black\" stroke=\"black\" points=\"125,-1056.16 121.5,-1046.16 118,-1056.16 125,-1056.16\"/>\n</g>\n<!-- 3 -->\n<g id=\"node4\" class=\"node\">\n<title>3</title>\n<polygon fill=\"#c1ffc1\" stroke=\"transparent\" points=\"243,-968 0,-968 0,-926 243,-926 243,-968\"/>\n<polygon fill=\"none\" stroke=\"black\" points=\"0.5,-926 0.5,-968 77.5,-968 77.5,-926 0.5,-926\"/>\n<text text-anchor=\"start\" x=\"5.5\" y=\"-950\" font-family=\"Linux libertine\" font-size=\"10.00\">BatchNorm2d</text>\n<text text-anchor=\"start\" x=\"17.5\" y=\"-939\" font-family=\"Linux libertine\" font-size=\"10.00\">depth:1</text>\n<polygon fill=\"none\" stroke=\"black\" points=\"77.5,-947 77.5,-968 136.5,-968 136.5,-947 77.5,-947\"/>\n<text text-anchor=\"start\" x=\"88.5\" y=\"-955\" font-family=\"Linux libertine\" font-size=\"10.00\">input:</text>\n<polygon fill=\"none\" stroke=\"black\" points=\"136.5,-947 136.5,-968 243.5,-968 243.5,-947 136.5,-947\"/>\n<text text-anchor=\"start\" x=\"141.5\" y=\"-955\" font-family=\"Linux libertine\" font-size=\"10.00\">(1, 16, 96, 96) </text>\n<polygon fill=\"none\" stroke=\"black\" points=\"77.5,-926 77.5,-947 136.5,-947 136.5,-926 77.5,-926\"/>\n<text text-anchor=\"start\" x=\"82.5\" y=\"-934\" font-family=\"Linux libertine\" font-size=\"10.00\">output: </text>\n<polygon fill=\"none\" stroke=\"black\" points=\"136.5,-926 136.5,-947 243.5,-947 243.5,-926 136.5,-926\"/>\n<text text-anchor=\"start\" x=\"141.5\" y=\"-934\" font-family=\"Linux libertine\" font-size=\"10.00\">(1, 16, 96, 96) </text>\n</g>\n<!-- 2&#45;&gt;3 -->\n<g id=\"edge3\" class=\"edge\">\n<title>2&#45;&gt;3</title>\n<path fill=\"none\" stroke=\"black\" d=\"M121.5,-1003.63C121.5,-995.82 121.5,-986.73 121.5,-978.18\"/>\n<polygon fill=\"black\" stroke=\"black\" points=\"125,-978.16 121.5,-968.16 118,-978.16 125,-978.16\"/>\n</g>\n<!-- 4 -->\n<g id=\"node5\" class=\"node\">\n<title>4</title>\n<polygon fill=\"#c1ffc1\" stroke=\"transparent\" points=\"237,-890 6,-890 6,-848 237,-848 237,-890\"/>\n<polygon fill=\"none\" stroke=\"black\" points=\"6.5,-848 6.5,-890 71.5,-890 71.5,-848 6.5,-848\"/>\n<text text-anchor=\"start\" x=\"11.5\" y=\"-872\" font-family=\"Linux libertine\" font-size=\"10.00\">MaxPool2d</text>\n<text text-anchor=\"start\" x=\"17.5\" y=\"-861\" font-family=\"Linux libertine\" font-size=\"10.00\">depth:1</text>\n<polygon fill=\"none\" stroke=\"black\" points=\"71.5,-869 71.5,-890 130.5,-890 130.5,-869 71.5,-869\"/>\n<text text-anchor=\"start\" x=\"82.5\" y=\"-877\" font-family=\"Linux libertine\" font-size=\"10.00\">input:</text>\n<polygon fill=\"none\" stroke=\"black\" points=\"130.5,-869 130.5,-890 237.5,-890 237.5,-869 130.5,-869\"/>\n<text text-anchor=\"start\" x=\"135.5\" y=\"-877\" font-family=\"Linux libertine\" font-size=\"10.00\">(1, 16, 96, 96) </text>\n<polygon fill=\"none\" stroke=\"black\" points=\"71.5,-848 71.5,-869 130.5,-869 130.5,-848 71.5,-848\"/>\n<text text-anchor=\"start\" x=\"76.5\" y=\"-856\" font-family=\"Linux libertine\" font-size=\"10.00\">output: </text>\n<polygon fill=\"none\" stroke=\"black\" points=\"130.5,-848 130.5,-869 237.5,-869 237.5,-848 130.5,-848\"/>\n<text text-anchor=\"start\" x=\"135.5\" y=\"-856\" font-family=\"Linux libertine\" font-size=\"10.00\">(1, 16, 48, 48) </text>\n</g>\n<!-- 3&#45;&gt;4 -->\n<g id=\"edge4\" class=\"edge\">\n<title>3&#45;&gt;4</title>\n<path fill=\"none\" stroke=\"black\" d=\"M121.5,-925.63C121.5,-917.82 121.5,-908.73 121.5,-900.18\"/>\n<polygon fill=\"black\" stroke=\"black\" points=\"125,-900.16 121.5,-890.16 118,-900.16 125,-900.16\"/>\n</g>\n<!-- 5 -->\n<g id=\"node6\" class=\"node\">\n<title>5</title>\n<polygon fill=\"#c1ffc1\" stroke=\"transparent\" points=\"231,-812 12,-812 12,-770 231,-770 231,-812\"/>\n<polygon fill=\"none\" stroke=\"black\" points=\"12.5,-770 12.5,-812 65.5,-812 65.5,-770 12.5,-770\"/>\n<text text-anchor=\"start\" x=\"20.5\" y=\"-794\" font-family=\"Linux libertine\" font-size=\"10.00\">Conv2d</text>\n<text text-anchor=\"start\" x=\"17.5\" y=\"-783\" font-family=\"Linux libertine\" font-size=\"10.00\">depth:1</text>\n<polygon fill=\"none\" stroke=\"black\" points=\"65.5,-791 65.5,-812 124.5,-812 124.5,-791 65.5,-791\"/>\n<text text-anchor=\"start\" x=\"76.5\" y=\"-799\" font-family=\"Linux libertine\" font-size=\"10.00\">input:</text>\n<polygon fill=\"none\" stroke=\"black\" points=\"124.5,-791 124.5,-812 231.5,-812 231.5,-791 124.5,-791\"/>\n<text text-anchor=\"start\" x=\"129.5\" y=\"-799\" font-family=\"Linux libertine\" font-size=\"10.00\">(1, 16, 48, 48) </text>\n<polygon fill=\"none\" stroke=\"black\" points=\"65.5,-770 65.5,-791 124.5,-791 124.5,-770 65.5,-770\"/>\n<text text-anchor=\"start\" x=\"70.5\" y=\"-778\" font-family=\"Linux libertine\" font-size=\"10.00\">output: </text>\n<polygon fill=\"none\" stroke=\"black\" points=\"124.5,-770 124.5,-791 231.5,-791 231.5,-770 124.5,-770\"/>\n<text text-anchor=\"start\" x=\"129.5\" y=\"-778\" font-family=\"Linux libertine\" font-size=\"10.00\">(1, 32, 48, 48) </text>\n</g>\n<!-- 4&#45;&gt;5 -->\n<g id=\"edge5\" class=\"edge\">\n<title>4&#45;&gt;5</title>\n<path fill=\"none\" stroke=\"black\" d=\"M121.5,-847.63C121.5,-839.82 121.5,-830.73 121.5,-822.18\"/>\n<polygon fill=\"black\" stroke=\"black\" points=\"125,-822.16 121.5,-812.16 118,-822.16 125,-822.16\"/>\n</g>\n<!-- 6 -->\n<g id=\"node7\" class=\"node\">\n<title>6</title>\n<polygon fill=\"#c1ffc1\" stroke=\"transparent\" points=\"231,-734 12,-734 12,-692 231,-692 231,-734\"/>\n<polygon fill=\"none\" stroke=\"black\" points=\"12.5,-692 12.5,-734 65.5,-734 65.5,-692 12.5,-692\"/>\n<text text-anchor=\"start\" x=\"26.5\" y=\"-716\" font-family=\"Linux libertine\" font-size=\"10.00\">ReLU</text>\n<text text-anchor=\"start\" x=\"17.5\" y=\"-705\" font-family=\"Linux libertine\" font-size=\"10.00\">depth:1</text>\n<polygon fill=\"none\" stroke=\"black\" points=\"65.5,-713 65.5,-734 124.5,-734 124.5,-713 65.5,-713\"/>\n<text text-anchor=\"start\" x=\"76.5\" y=\"-721\" font-family=\"Linux libertine\" font-size=\"10.00\">input:</text>\n<polygon fill=\"none\" stroke=\"black\" points=\"124.5,-713 124.5,-734 231.5,-734 231.5,-713 124.5,-713\"/>\n<text text-anchor=\"start\" x=\"129.5\" y=\"-721\" font-family=\"Linux libertine\" font-size=\"10.00\">(1, 32, 48, 48) </text>\n<polygon fill=\"none\" stroke=\"black\" points=\"65.5,-692 65.5,-713 124.5,-713 124.5,-692 65.5,-692\"/>\n<text text-anchor=\"start\" x=\"70.5\" y=\"-700\" font-family=\"Linux libertine\" font-size=\"10.00\">output: </text>\n<polygon fill=\"none\" stroke=\"black\" points=\"124.5,-692 124.5,-713 231.5,-713 231.5,-692 124.5,-692\"/>\n<text text-anchor=\"start\" x=\"129.5\" y=\"-700\" font-family=\"Linux libertine\" font-size=\"10.00\">(1, 32, 48, 48) </text>\n</g>\n<!-- 5&#45;&gt;6 -->\n<g id=\"edge6\" class=\"edge\">\n<title>5&#45;&gt;6</title>\n<path fill=\"none\" stroke=\"black\" d=\"M121.5,-769.63C121.5,-761.82 121.5,-752.73 121.5,-744.18\"/>\n<polygon fill=\"black\" stroke=\"black\" points=\"125,-744.16 121.5,-734.16 118,-744.16 125,-744.16\"/>\n</g>\n<!-- 7 -->\n<g id=\"node8\" class=\"node\">\n<title>7</title>\n<polygon fill=\"#c1ffc1\" stroke=\"transparent\" points=\"243,-656 0,-656 0,-614 243,-614 243,-656\"/>\n<polygon fill=\"none\" stroke=\"black\" points=\"0.5,-614 0.5,-656 77.5,-656 77.5,-614 0.5,-614\"/>\n<text text-anchor=\"start\" x=\"5.5\" y=\"-638\" font-family=\"Linux libertine\" font-size=\"10.00\">BatchNorm2d</text>\n<text text-anchor=\"start\" x=\"17.5\" y=\"-627\" font-family=\"Linux libertine\" font-size=\"10.00\">depth:1</text>\n<polygon fill=\"none\" stroke=\"black\" points=\"77.5,-635 77.5,-656 136.5,-656 136.5,-635 77.5,-635\"/>\n<text text-anchor=\"start\" x=\"88.5\" y=\"-643\" font-family=\"Linux libertine\" font-size=\"10.00\">input:</text>\n<polygon fill=\"none\" stroke=\"black\" points=\"136.5,-635 136.5,-656 243.5,-656 243.5,-635 136.5,-635\"/>\n<text text-anchor=\"start\" x=\"141.5\" y=\"-643\" font-family=\"Linux libertine\" font-size=\"10.00\">(1, 32, 48, 48) </text>\n<polygon fill=\"none\" stroke=\"black\" points=\"77.5,-614 77.5,-635 136.5,-635 136.5,-614 77.5,-614\"/>\n<text text-anchor=\"start\" x=\"82.5\" y=\"-622\" font-family=\"Linux libertine\" font-size=\"10.00\">output: </text>\n<polygon fill=\"none\" stroke=\"black\" points=\"136.5,-614 136.5,-635 243.5,-635 243.5,-614 136.5,-614\"/>\n<text text-anchor=\"start\" x=\"141.5\" y=\"-622\" font-family=\"Linux libertine\" font-size=\"10.00\">(1, 32, 48, 48) </text>\n</g>\n<!-- 6&#45;&gt;7 -->\n<g id=\"edge7\" class=\"edge\">\n<title>6&#45;&gt;7</title>\n<path fill=\"none\" stroke=\"black\" d=\"M121.5,-691.63C121.5,-683.82 121.5,-674.73 121.5,-666.18\"/>\n<polygon fill=\"black\" stroke=\"black\" points=\"125,-666.16 121.5,-656.16 118,-666.16 125,-666.16\"/>\n</g>\n<!-- 8 -->\n<g id=\"node9\" class=\"node\">\n<title>8</title>\n<polygon fill=\"#c1ffc1\" stroke=\"transparent\" points=\"237,-578 6,-578 6,-536 237,-536 237,-578\"/>\n<polygon fill=\"none\" stroke=\"black\" points=\"6.5,-536 6.5,-578 71.5,-578 71.5,-536 6.5,-536\"/>\n<text text-anchor=\"start\" x=\"11.5\" y=\"-560\" font-family=\"Linux libertine\" font-size=\"10.00\">MaxPool2d</text>\n<text text-anchor=\"start\" x=\"17.5\" y=\"-549\" font-family=\"Linux libertine\" font-size=\"10.00\">depth:1</text>\n<polygon fill=\"none\" stroke=\"black\" points=\"71.5,-557 71.5,-578 130.5,-578 130.5,-557 71.5,-557\"/>\n<text text-anchor=\"start\" x=\"82.5\" y=\"-565\" font-family=\"Linux libertine\" font-size=\"10.00\">input:</text>\n<polygon fill=\"none\" stroke=\"black\" points=\"130.5,-557 130.5,-578 237.5,-578 237.5,-557 130.5,-557\"/>\n<text text-anchor=\"start\" x=\"135.5\" y=\"-565\" font-family=\"Linux libertine\" font-size=\"10.00\">(1, 32, 48, 48) </text>\n<polygon fill=\"none\" stroke=\"black\" points=\"71.5,-536 71.5,-557 130.5,-557 130.5,-536 71.5,-536\"/>\n<text text-anchor=\"start\" x=\"76.5\" y=\"-544\" font-family=\"Linux libertine\" font-size=\"10.00\">output: </text>\n<polygon fill=\"none\" stroke=\"black\" points=\"130.5,-536 130.5,-557 237.5,-557 237.5,-536 130.5,-536\"/>\n<text text-anchor=\"start\" x=\"135.5\" y=\"-544\" font-family=\"Linux libertine\" font-size=\"10.00\">(1, 32, 24, 24) </text>\n</g>\n<!-- 7&#45;&gt;8 -->\n<g id=\"edge8\" class=\"edge\">\n<title>7&#45;&gt;8</title>\n<path fill=\"none\" stroke=\"black\" d=\"M121.5,-613.63C121.5,-605.82 121.5,-596.73 121.5,-588.18\"/>\n<polygon fill=\"black\" stroke=\"black\" points=\"125,-588.16 121.5,-578.16 118,-588.16 125,-588.16\"/>\n</g>\n<!-- 9 -->\n<g id=\"node10\" class=\"node\">\n<title>9</title>\n<polygon fill=\"#c1ffc1\" stroke=\"transparent\" points=\"231,-500 12,-500 12,-458 231,-458 231,-500\"/>\n<polygon fill=\"none\" stroke=\"black\" points=\"12.5,-458 12.5,-500 65.5,-500 65.5,-458 12.5,-458\"/>\n<text text-anchor=\"start\" x=\"20.5\" y=\"-482\" font-family=\"Linux libertine\" font-size=\"10.00\">Conv2d</text>\n<text text-anchor=\"start\" x=\"17.5\" y=\"-471\" font-family=\"Linux libertine\" font-size=\"10.00\">depth:1</text>\n<polygon fill=\"none\" stroke=\"black\" points=\"65.5,-479 65.5,-500 124.5,-500 124.5,-479 65.5,-479\"/>\n<text text-anchor=\"start\" x=\"76.5\" y=\"-487\" font-family=\"Linux libertine\" font-size=\"10.00\">input:</text>\n<polygon fill=\"none\" stroke=\"black\" points=\"124.5,-479 124.5,-500 231.5,-500 231.5,-479 124.5,-479\"/>\n<text text-anchor=\"start\" x=\"129.5\" y=\"-487\" font-family=\"Linux libertine\" font-size=\"10.00\">(1, 32, 24, 24) </text>\n<polygon fill=\"none\" stroke=\"black\" points=\"65.5,-458 65.5,-479 124.5,-479 124.5,-458 65.5,-458\"/>\n<text text-anchor=\"start\" x=\"70.5\" y=\"-466\" font-family=\"Linux libertine\" font-size=\"10.00\">output: </text>\n<polygon fill=\"none\" stroke=\"black\" points=\"124.5,-458 124.5,-479 231.5,-479 231.5,-458 124.5,-458\"/>\n<text text-anchor=\"start\" x=\"129.5\" y=\"-466\" font-family=\"Linux libertine\" font-size=\"10.00\">(1, 64, 24, 24) </text>\n</g>\n<!-- 8&#45;&gt;9 -->\n<g id=\"edge9\" class=\"edge\">\n<title>8&#45;&gt;9</title>\n<path fill=\"none\" stroke=\"black\" d=\"M121.5,-535.63C121.5,-527.82 121.5,-518.73 121.5,-510.18\"/>\n<polygon fill=\"black\" stroke=\"black\" points=\"125,-510.16 121.5,-500.16 118,-510.16 125,-510.16\"/>\n</g>\n<!-- 10 -->\n<g id=\"node11\" class=\"node\">\n<title>10</title>\n<polygon fill=\"#c1ffc1\" stroke=\"transparent\" points=\"231,-422 12,-422 12,-380 231,-380 231,-422\"/>\n<polygon fill=\"none\" stroke=\"black\" points=\"12.5,-380 12.5,-422 65.5,-422 65.5,-380 12.5,-380\"/>\n<text text-anchor=\"start\" x=\"26.5\" y=\"-404\" font-family=\"Linux libertine\" font-size=\"10.00\">ReLU</text>\n<text text-anchor=\"start\" x=\"17.5\" y=\"-393\" font-family=\"Linux libertine\" font-size=\"10.00\">depth:1</text>\n<polygon fill=\"none\" stroke=\"black\" points=\"65.5,-401 65.5,-422 124.5,-422 124.5,-401 65.5,-401\"/>\n<text text-anchor=\"start\" x=\"76.5\" y=\"-409\" font-family=\"Linux libertine\" font-size=\"10.00\">input:</text>\n<polygon fill=\"none\" stroke=\"black\" points=\"124.5,-401 124.5,-422 231.5,-422 231.5,-401 124.5,-401\"/>\n<text text-anchor=\"start\" x=\"129.5\" y=\"-409\" font-family=\"Linux libertine\" font-size=\"10.00\">(1, 64, 24, 24) </text>\n<polygon fill=\"none\" stroke=\"black\" points=\"65.5,-380 65.5,-401 124.5,-401 124.5,-380 65.5,-380\"/>\n<text text-anchor=\"start\" x=\"70.5\" y=\"-388\" font-family=\"Linux libertine\" font-size=\"10.00\">output: </text>\n<polygon fill=\"none\" stroke=\"black\" points=\"124.5,-380 124.5,-401 231.5,-401 231.5,-380 124.5,-380\"/>\n<text text-anchor=\"start\" x=\"129.5\" y=\"-388\" font-family=\"Linux libertine\" font-size=\"10.00\">(1, 64, 24, 24) </text>\n</g>\n<!-- 9&#45;&gt;10 -->\n<g id=\"edge10\" class=\"edge\">\n<title>9&#45;&gt;10</title>\n<path fill=\"none\" stroke=\"black\" d=\"M121.5,-457.63C121.5,-449.82 121.5,-440.73 121.5,-432.18\"/>\n<polygon fill=\"black\" stroke=\"black\" points=\"125,-432.16 121.5,-422.16 118,-432.16 125,-432.16\"/>\n</g>\n<!-- 11 -->\n<g id=\"node12\" class=\"node\">\n<title>11</title>\n<polygon fill=\"#c1ffc1\" stroke=\"transparent\" points=\"243,-344 0,-344 0,-302 243,-302 243,-344\"/>\n<polygon fill=\"none\" stroke=\"black\" points=\"0.5,-302 0.5,-344 77.5,-344 77.5,-302 0.5,-302\"/>\n<text text-anchor=\"start\" x=\"5.5\" y=\"-326\" font-family=\"Linux libertine\" font-size=\"10.00\">BatchNorm2d</text>\n<text text-anchor=\"start\" x=\"17.5\" y=\"-315\" font-family=\"Linux libertine\" font-size=\"10.00\">depth:1</text>\n<polygon fill=\"none\" stroke=\"black\" points=\"77.5,-323 77.5,-344 136.5,-344 136.5,-323 77.5,-323\"/>\n<text text-anchor=\"start\" x=\"88.5\" y=\"-331\" font-family=\"Linux libertine\" font-size=\"10.00\">input:</text>\n<polygon fill=\"none\" stroke=\"black\" points=\"136.5,-323 136.5,-344 243.5,-344 243.5,-323 136.5,-323\"/>\n<text text-anchor=\"start\" x=\"141.5\" y=\"-331\" font-family=\"Linux libertine\" font-size=\"10.00\">(1, 64, 24, 24) </text>\n<polygon fill=\"none\" stroke=\"black\" points=\"77.5,-302 77.5,-323 136.5,-323 136.5,-302 77.5,-302\"/>\n<text text-anchor=\"start\" x=\"82.5\" y=\"-310\" font-family=\"Linux libertine\" font-size=\"10.00\">output: </text>\n<polygon fill=\"none\" stroke=\"black\" points=\"136.5,-302 136.5,-323 243.5,-323 243.5,-302 136.5,-302\"/>\n<text text-anchor=\"start\" x=\"141.5\" y=\"-310\" font-family=\"Linux libertine\" font-size=\"10.00\">(1, 64, 24, 24) </text>\n</g>\n<!-- 10&#45;&gt;11 -->\n<g id=\"edge11\" class=\"edge\">\n<title>10&#45;&gt;11</title>\n<path fill=\"none\" stroke=\"black\" d=\"M121.5,-379.63C121.5,-371.82 121.5,-362.73 121.5,-354.18\"/>\n<polygon fill=\"black\" stroke=\"black\" points=\"125,-354.16 121.5,-344.16 118,-354.16 125,-354.16\"/>\n</g>\n<!-- 12 -->\n<g id=\"node13\" class=\"node\">\n<title>12</title>\n<polygon fill=\"#c1ffc1\" stroke=\"transparent\" points=\"237,-266 6,-266 6,-224 237,-224 237,-266\"/>\n<polygon fill=\"none\" stroke=\"black\" points=\"6.5,-224 6.5,-266 71.5,-266 71.5,-224 6.5,-224\"/>\n<text text-anchor=\"start\" x=\"11.5\" y=\"-248\" font-family=\"Linux libertine\" font-size=\"10.00\">MaxPool2d</text>\n<text text-anchor=\"start\" x=\"17.5\" y=\"-237\" font-family=\"Linux libertine\" font-size=\"10.00\">depth:1</text>\n<polygon fill=\"none\" stroke=\"black\" points=\"71.5,-245 71.5,-266 130.5,-266 130.5,-245 71.5,-245\"/>\n<text text-anchor=\"start\" x=\"82.5\" y=\"-253\" font-family=\"Linux libertine\" font-size=\"10.00\">input:</text>\n<polygon fill=\"none\" stroke=\"black\" points=\"130.5,-245 130.5,-266 237.5,-266 237.5,-245 130.5,-245\"/>\n<text text-anchor=\"start\" x=\"135.5\" y=\"-253\" font-family=\"Linux libertine\" font-size=\"10.00\">(1, 64, 24, 24) </text>\n<polygon fill=\"none\" stroke=\"black\" points=\"71.5,-224 71.5,-245 130.5,-245 130.5,-224 71.5,-224\"/>\n<text text-anchor=\"start\" x=\"76.5\" y=\"-232\" font-family=\"Linux libertine\" font-size=\"10.00\">output: </text>\n<polygon fill=\"none\" stroke=\"black\" points=\"130.5,-224 130.5,-245 237.5,-245 237.5,-224 130.5,-224\"/>\n<text text-anchor=\"start\" x=\"135.5\" y=\"-232\" font-family=\"Linux libertine\" font-size=\"10.00\">(1, 64, 12, 12) </text>\n</g>\n<!-- 11&#45;&gt;12 -->\n<g id=\"edge12\" class=\"edge\">\n<title>11&#45;&gt;12</title>\n<path fill=\"none\" stroke=\"black\" d=\"M121.5,-301.63C121.5,-293.82 121.5,-284.73 121.5,-276.18\"/>\n<polygon fill=\"black\" stroke=\"black\" points=\"125,-276.16 121.5,-266.16 118,-276.16 125,-276.16\"/>\n</g>\n<!-- 13 -->\n<g id=\"node14\" class=\"node\">\n<title>13</title>\n<polygon fill=\"aliceblue\" stroke=\"transparent\" points=\"231,-188 12,-188 12,-146 231,-146 231,-188\"/>\n<polygon fill=\"none\" stroke=\"black\" points=\"12.5,-146 12.5,-188 65.5,-188 65.5,-146 12.5,-146\"/>\n<text text-anchor=\"start\" x=\"26.5\" y=\"-170\" font-family=\"Linux libertine\" font-size=\"10.00\">view</text>\n<text text-anchor=\"start\" x=\"17.5\" y=\"-159\" font-family=\"Linux libertine\" font-size=\"10.00\">depth:1</text>\n<polygon fill=\"none\" stroke=\"black\" points=\"65.5,-167 65.5,-188 124.5,-188 124.5,-167 65.5,-167\"/>\n<text text-anchor=\"start\" x=\"76.5\" y=\"-175\" font-family=\"Linux libertine\" font-size=\"10.00\">input:</text>\n<polygon fill=\"none\" stroke=\"black\" points=\"124.5,-167 124.5,-188 231.5,-188 231.5,-167 124.5,-167\"/>\n<text text-anchor=\"start\" x=\"129.5\" y=\"-175\" font-family=\"Linux libertine\" font-size=\"10.00\">(1, 64, 12, 12) </text>\n<polygon fill=\"none\" stroke=\"black\" points=\"65.5,-146 65.5,-167 124.5,-167 124.5,-146 65.5,-146\"/>\n<text text-anchor=\"start\" x=\"70.5\" y=\"-154\" font-family=\"Linux libertine\" font-size=\"10.00\">output: </text>\n<polygon fill=\"none\" stroke=\"black\" points=\"124.5,-146 124.5,-167 231.5,-167 231.5,-146 124.5,-146\"/>\n<text text-anchor=\"start\" x=\"147.5\" y=\"-154\" font-family=\"Linux libertine\" font-size=\"10.00\">(1, 9216) </text>\n</g>\n<!-- 12&#45;&gt;13 -->\n<g id=\"edge13\" class=\"edge\">\n<title>12&#45;&gt;13</title>\n<path fill=\"none\" stroke=\"black\" d=\"M121.5,-223.63C121.5,-215.82 121.5,-206.73 121.5,-198.18\"/>\n<polygon fill=\"black\" stroke=\"black\" points=\"125,-198.16 121.5,-188.16 118,-198.16 125,-198.16\"/>\n</g>\n<!-- 14 -->\n<g id=\"node15\" class=\"node\">\n<title>14</title>\n<polygon fill=\"#c1ffc1\" stroke=\"transparent\" points=\"213,-110 30,-110 30,-68 213,-68 213,-110\"/>\n<polygon fill=\"none\" stroke=\"black\" points=\"30.5,-68 30.5,-110 83.5,-110 83.5,-68 30.5,-68\"/>\n<text text-anchor=\"start\" x=\"38.5\" y=\"-92\" font-family=\"Linux libertine\" font-size=\"10.00\">Linear</text>\n<text text-anchor=\"start\" x=\"35.5\" y=\"-81\" font-family=\"Linux libertine\" font-size=\"10.00\">depth:1</text>\n<polygon fill=\"none\" stroke=\"black\" points=\"83.5,-89 83.5,-110 142.5,-110 142.5,-89 83.5,-89\"/>\n<text text-anchor=\"start\" x=\"94.5\" y=\"-97\" font-family=\"Linux libertine\" font-size=\"10.00\">input:</text>\n<polygon fill=\"none\" stroke=\"black\" points=\"142.5,-89 142.5,-110 213.5,-110 213.5,-89 142.5,-89\"/>\n<text text-anchor=\"start\" x=\"147.5\" y=\"-97\" font-family=\"Linux libertine\" font-size=\"10.00\">(1, 9216) </text>\n<polygon fill=\"none\" stroke=\"black\" points=\"83.5,-68 83.5,-89 142.5,-89 142.5,-68 83.5,-68\"/>\n<text text-anchor=\"start\" x=\"88.5\" y=\"-76\" font-family=\"Linux libertine\" font-size=\"10.00\">output: </text>\n<polygon fill=\"none\" stroke=\"black\" points=\"142.5,-68 142.5,-89 213.5,-89 213.5,-68 142.5,-68\"/>\n<text text-anchor=\"start\" x=\"153.5\" y=\"-76\" font-family=\"Linux libertine\" font-size=\"10.00\">(1, 64) </text>\n</g>\n<!-- 13&#45;&gt;14 -->\n<g id=\"edge14\" class=\"edge\">\n<title>13&#45;&gt;14</title>\n<path fill=\"none\" stroke=\"black\" d=\"M121.5,-145.63C121.5,-137.82 121.5,-128.73 121.5,-120.18\"/>\n<polygon fill=\"black\" stroke=\"black\" points=\"125,-120.16 121.5,-110.16 118,-120.16 125,-120.16\"/>\n</g>\n<!-- 15 -->\n<g id=\"node16\" class=\"node\">\n<title>15</title>\n<polygon fill=\"lightyellow\" stroke=\"transparent\" points=\"192.5,-32 50.5,-32 50.5,0 192.5,0 192.5,-32\"/>\n<polygon fill=\"none\" stroke=\"black\" points=\"50.5,0 50.5,-32 139.5,-32 139.5,0 50.5,0\"/>\n<text text-anchor=\"start\" x=\"55.5\" y=\"-19\" font-family=\"Linux libertine\" font-size=\"10.00\">output&#45;tensor</text>\n<text text-anchor=\"start\" x=\"73.5\" y=\"-8\" font-family=\"Linux libertine\" font-size=\"10.00\">depth:0</text>\n<polygon fill=\"none\" stroke=\"black\" points=\"139.5,0 139.5,-32 192.5,-32 192.5,0 139.5,0\"/>\n<text text-anchor=\"start\" x=\"144.5\" y=\"-13.5\" font-family=\"Linux libertine\" font-size=\"10.00\">(1, 64)</text>\n</g>\n<!-- 14&#45;&gt;15 -->\n<g id=\"edge15\" class=\"edge\">\n<title>14&#45;&gt;15</title>\n<path fill=\"none\" stroke=\"black\" d=\"M121.5,-67.84C121.5,-59.89 121.5,-50.66 121.5,-42.26\"/>\n<polygon fill=\"black\" stroke=\"black\" points=\"125,-42.24 121.5,-32.24 118,-42.24 125,-42.24\"/>\n</g>\n</g>\n</svg>\n",
            "text/plain": [
              "<graphviz.graphs.Digraph at 0x7e24087e2410>"
            ]
          },
          "metadata": {},
          "execution_count": 22
        }
      ]
    },
    {
      "cell_type": "code",
      "source": [
        "!pip install hiddenlayer > /dev/null 2>&1"
      ],
      "metadata": {
        "id": "nzIeE-jRwUGy"
      },
      "execution_count": null,
      "outputs": []
    },
    {
      "cell_type": "code",
      "source": [
        "import torch as th\n",
        "import torch.nn as nn\n",
        "from gymnasium import spaces\n",
        "\n",
        "from stable_baselines3 import PPO\n",
        "from stable_baselines3.common.torch_layers import BaseFeaturesExtractor\n",
        "\n",
        "# Custom policy class, inherits BaseFeaturesExtractor from stablebaselines3\n",
        "class CustomCNN(BaseFeaturesExtractor):\n",
        "    \"\"\"\n",
        "    :param observation_space: (gym.Space)\n",
        "    :param features_dim: (int) Number of features extracted.\n",
        "        This corresponds to the number of unit for the last layer.\n",
        "    \"\"\"\n",
        "\n",
        "    def __init__(self, observation_space: spaces.Box, features_dim: int = 256):\n",
        "        super().__init__(observation_space, features_dim)\n",
        "        # We assume CxHxW images (channels first)\n",
        "        # Re-ordering will be done by pre-preprocessing or wrapper\n",
        "        n_input_channels = observation_space.shape[0]\n",
        "        self.cnn = nn.Sequential(\n",
        "            nn.Conv2d(n_input_channels, 32, kernel_size=8, stride=4, padding=0),\n",
        "            nn.ReLU(),\n",
        "            nn.Conv2d(32, 64, kernel_size=4, stride=2, padding=0),\n",
        "            nn.ReLU(),\n",
        "            nn.Flatten(),\n",
        "        )\n",
        "\n",
        "        # Compute shape by doing one forward pass\n",
        "        with th.no_grad():\n",
        "            n_flatten = self.cnn(\n",
        "                th.as_tensor(observation_space.sample()[None]).float()\n",
        "            ).shape[1]\n",
        "\n",
        "        self.linear = nn.Sequential(nn.Linear(n_flatten, features_dim), nn.ReLU())\n",
        "\n",
        "    def forward(self, observations: th.Tensor) -> th.Tensor:\n",
        "        return self.linear(self.cnn(observations))\n",
        "\n",
        "# define args for stable baselines 3\n",
        "policy_kwargs = dict(\n",
        "    features_extractor_class=CustomCNN,\n",
        "    features_extractor_kwargs=dict(features_dim=128),\n",
        ")\n",
        "\n",
        "video_folder = 'videos'\n",
        "\n",
        "# set up environment for recording\n",
        "env = gym.make(\n",
        "    'CarRacing-v2',\n",
        "    new_step_api=True,\n",
        "    lap_complete_percent=50,\n",
        "    max_episode_steps=5000,\n",
        ")\n",
        "env = RecordVideo(\n",
        "    env,\n",
        "    video_folder=f'./{video_folder}',\n",
        "    new_step_api=True,\n",
        "    episode_trigger = lambda episode: True\n",
        ")\n",
        "\n",
        "vec_env = make_vec_env('CarRacing-v2', n_envs=1) # only needed for training\n",
        "\n",
        "train_name = 'ppo_carracing_200k'\n",
        "\n",
        "# train policy\n",
        "model = PPO(\"CnnPolicy\", vec_env, policy_kwargs=policy_kwargs, verbose=1)\n",
        "model.learn(200_000, progress_bar=True)\n",
        "model.save(train_name)\n"
      ],
      "metadata": {
        "id": "EcNlC0koi22S"
      },
      "execution_count": null,
      "outputs": []
    },
    {
      "cell_type": "code",
      "source": [
        "# Evaluate model for 50 episodes\n",
        "rewards = eval(\n",
        "    env, model,\n",
        "    n_episodes=50,\n",
        "    n_timesteps=102400,\n",
        "    reward_threshold=800,\n",
        ")"
      ],
      "metadata": {
        "id": "1FUlkfS6i6ET"
      },
      "execution_count": null,
      "outputs": []
    },
    {
      "cell_type": "code",
      "source": [
        "import matplotlib.pyplot as plt\n",
        "\n",
        "# average reward across test trials\n",
        "min_length = len(rewards[18]) - 10\n",
        "clipped_reward = [sublist[:min_length] for sublist in rewards]\n",
        "transposed_clipped_reward = list(zip(*clipped_reward))\n",
        "average_rewards = [sum(column) / len(column) for column in transposed_clipped_reward]\n",
        "\n",
        "# plot the reward\n",
        "plt.plot(range(len(average_rewards)), average_rewards)\n",
        "plt.xlabel('Timestep')\n",
        "plt.ylabel('Total Reward (Avg. over Test Trials)')\n",
        "plt.title('Reward over Time - Custom Policy')\n",
        "plt.show()"
      ],
      "metadata": {
        "id": "FgqWwCNRi2Tm"
      },
      "execution_count": null,
      "outputs": []
    }
  ],
  "metadata": {
    "colab": {
      "machine_shape": "hm",
      "provenance": [],
      "collapsed_sections": [
        "0UCxEbwutSLC"
      ],
      "toc_visible": true,
      "include_colab_link": true
    },
    "kernelspec": {
      "display_name": "Python 3",
      "name": "python3"
    },
    "language_info": {
      "name": "python"
    }
  },
  "nbformat": 4,
  "nbformat_minor": 0
}